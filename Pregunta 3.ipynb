{
  "nbformat": 4,
  "nbformat_minor": 0,
  "metadata": {
    "colab": {
      "name": "Pregunta 3 T3.ipynb",
      "version": "0.3.2",
      "provenance": [],
      "collapsed_sections": [],
      "toc_visible": true
    },
    "kernelspec": {
      "name": "python3",
      "display_name": "Python 3"
    },
    "accelerator": "GPU"
  },
  "cells": [
    {
      "metadata": {
        "id": "q3G1xGWoin-Q",
        "colab_type": "text"
      },
      "cell_type": "markdown",
      "source": [
        "# Pregunta 3: Desafío Kaggle"
      ]
    },
    {
      "metadata": {
        "id": "iSeTOLqLitLE",
        "colab_type": "text"
      },
      "cell_type": "markdown",
      "source": [
        "## Obtención de los datos"
      ]
    },
    {
      "metadata": {
        "id": "M6ry6FqKbnds",
        "colab_type": "code",
        "colab": {}
      },
      "cell_type": "code",
      "source": [
        "!pip install -q kaggle"
      ],
      "execution_count": 0,
      "outputs": []
    },
    {
      "metadata": {
        "id": "Eyy4nP61fU2Z",
        "colab_type": "code",
        "colab": {
          "base_uri": "https://localhost:8080/",
          "height": 204
        },
        "outputId": "87b11689-f216-48b5-8525-77c68372cf42"
      },
      "cell_type": "code",
      "source": [
        "!mkdir ~/.kaggle\n",
        "!wget -O ~/.kaggle/kaggle.json http://vps.csaldias.cl/kaggle.json\n",
        "!chmod 600 ~/.kaggle/kaggle.json"
      ],
      "execution_count": 2,
      "outputs": [
        {
          "output_type": "stream",
          "text": [
            "--2018-08-30 22:45:26--  http://vps.csaldias.cl/kaggle.json\r\n",
            "Resolving vps.csaldias.cl (vps.csaldias.cl)... 170.239.86.99\n",
            "Connecting to vps.csaldias.cl (vps.csaldias.cl)|170.239.86.99|:80... connected.\n",
            "HTTP request sent, awaiting response... 200 OK\n",
            "Length: 64 [application/json]\n",
            "Saving to: ‘/root/.kaggle/kaggle.json’\n",
            "\n",
            "/root/.kaggle/kaggl 100%[===================>]      64  --.-KB/s    in 0s      \n",
            "\n",
            "2018-08-30 22:45:26 (7.17 MB/s) - ‘/root/.kaggle/kaggle.json’ saved [64/64]\n",
            "\n"
          ],
          "name": "stdout"
        }
      ]
    },
    {
      "metadata": {
        "id": "-A3WEZ9thSsY",
        "colab_type": "code",
        "colab": {
          "base_uri": "https://localhost:8080/",
          "height": 323
        },
        "outputId": "f415dfda-caf0-4993-e4dc-e22aa47c9538"
      },
      "cell_type": "code",
      "source": [
        "!kaggle competitions download -c tareaANN"
      ],
      "execution_count": 3,
      "outputs": [
        {
          "output_type": "stream",
          "text": [
            "Downloading labels_train.csv to /content\r\n",
            "\r  0%|                                               | 0.00/11.9k [00:00<?, ?B/s]\r\n",
            "100%|██████████████████████████████████████| 11.9k/11.9k [00:00<00:00, 7.36MB/s]\n",
            "Downloading sample_submision.csv to /content\n",
            "  0%|                                               | 0.00/2.25k [00:00<?, ?B/s]\n",
            "100%|██████████████████████████████████████| 2.25k/2.25k [00:00<00:00, 3.13MB/s]\n",
            "Downloading images_test.npy to /content\n",
            " 96%|██████████████████████████████████████▌ | 339M/352M [00:04<00:00, 81.5MB/s]\n",
            "100%|████████████████████████████████████████| 352M/352M [00:04<00:00, 81.9MB/s]\n",
            "Downloading images_train.npy to /content\n",
            "100%|█████████████████████████████████████▉| 1.37G/1.37G [00:19<00:00, 81.4MB/s]\n",
            "100%|██████████████████████████████████████| 1.37G/1.37G [00:19<00:00, 76.3MB/s]\n",
            "Downloading frames_test.tar.gz to /content\n",
            " 79%|█████████████████████████████▊        | 13.0M/16.5M [00:00<00:00, 16.4MB/s]\n",
            "100%|██████████████████████████████████████| 16.5M/16.5M [00:00<00:00, 27.7MB/s]\n",
            "Downloading frames_train.tar.gz to /content\n",
            " 88%|█████████████████████████████████▍    | 58.0M/66.0M [00:01<00:00, 30.7MB/s]\n",
            "100%|██████████████████████████████████████| 66.0M/66.0M [00:01<00:00, 55.3MB/s]\n"
          ],
          "name": "stdout"
        }
      ]
    },
    {
      "metadata": {
        "id": "rcCq1Se7h2yZ",
        "colab_type": "code",
        "colab": {
          "base_uri": "https://localhost:8080/",
          "height": 153
        },
        "outputId": "0969274e-320c-49ed-f12d-4900b7d0a3bc"
      },
      "cell_type": "code",
      "source": [
        "!ls -lh"
      ],
      "execution_count": 4,
      "outputs": [
        {
          "output_type": "stream",
          "text": [
            "total 1.8G\r\n",
            "-rw-r--r-- 1 root root  17M Aug 30 22:46 frames_test.tar.gz\r\n",
            "-rw-r--r-- 1 root root  66M Aug 30 22:46 frames_train.tar.gz\r\n",
            "-rw-r--r-- 1 root root 352M Aug 30 22:45 images_test.npy\r\n",
            "-rw-r--r-- 1 root root 1.4G Aug 30 22:45 images_train.npy\r\n",
            "-rw-r--r-- 1 root root  12K Aug 30 22:45 labels_train.csv\r\n",
            "drwxr-xr-x 2 root root 4.0K Aug 29 17:36 sample_data\r\n",
            "-rw-r--r-- 1 root root 2.3K Aug 30 22:45 sample_submision.csv\r\n"
          ],
          "name": "stdout"
        }
      ]
    },
    {
      "metadata": {
        "id": "l-Mj2cn0i1jA",
        "colab_type": "text"
      },
      "cell_type": "markdown",
      "source": [
        "## Carga y limpieza de los datos"
      ]
    },
    {
      "metadata": {
        "id": "1-cIPmQKiNoj",
        "colab_type": "code",
        "colab": {}
      },
      "cell_type": "code",
      "source": [
        "import numpy as np\n",
        "import pandas as pd\n",
        "\n",
        "x_train = np.load('images_train.npy')\n",
        "df_train = pd.read_csv('labels_train.csv')"
      ],
      "execution_count": 0,
      "outputs": []
    },
    {
      "metadata": {
        "id": "t5lZa8eGllt8",
        "colab_type": "code",
        "colab": {
          "base_uri": "https://localhost:8080/",
          "height": 51
        },
        "outputId": "19c91ac7-f412-4796-c622-785db4fa8fa1"
      },
      "cell_type": "code",
      "source": [
        "from keras.utils import to_categorical\n",
        "from skimage.transform import rescale\n",
        "\n",
        "x_train_rescaled = []\n",
        "for image in x_train:\n",
        "  x_train_rescaled.append(rescale(image, 1.0 / 4.0))\n",
        "x_train_rescaled = np.asarray(x_train_rescaled)\n",
        "\n",
        "y_train = to_categorical(df_train['count'], 51)"
      ],
      "execution_count": 17,
      "outputs": [
        {
          "output_type": "stream",
          "text": [
            "/usr/local/lib/python3.6/dist-packages/skimage/transform/_warps.py:84: UserWarning: The default mode, 'constant', will be changed to 'reflect' in skimage 0.15.\n",
            "  warn(\"The default mode, 'constant', will be changed to 'reflect' in \"\n"
          ],
          "name": "stderr"
        }
      ]
    },
    {
      "metadata": {
        "id": "x-G56mwD4fge",
        "colab_type": "code",
        "colab": {
          "base_uri": "https://localhost:8080/",
          "height": 34
        },
        "outputId": "ac0b0859-c99e-4331-f9a1-615401a74cce"
      },
      "cell_type": "code",
      "source": [
        "x_train_rescaled.shape"
      ],
      "execution_count": 3,
      "outputs": [
        {
          "output_type": "execute_result",
          "data": {
            "text/plain": [
              "(1600, 120, 160, 3)"
            ]
          },
          "metadata": {
            "tags": []
          },
          "execution_count": 3
        }
      ]
    },
    {
      "metadata": {
        "id": "7toLdg80hCm1",
        "colab_type": "text"
      },
      "cell_type": "markdown",
      "source": [
        "## Definición de la CNN"
      ]
    },
    {
      "metadata": {
        "id": "Nac4FaK39Ugs",
        "colab_type": "code",
        "colab": {}
      },
      "cell_type": "code",
      "source": [
        "from keras.models import Sequential\n",
        "from keras.layers import Dense, Dropout, Activation, Flatten, BatchNormalization\n",
        "from keras.layers import Conv2D, MaxPooling2D\n",
        "from keras.constraints import maxnorm"
      ],
      "execution_count": 0,
      "outputs": []
    },
    {
      "metadata": {
        "id": "ByAeZI2d9iq9",
        "colab_type": "code",
        "colab": {}
      },
      "cell_type": "code",
      "source": [
        "model = Sequential()\n",
        "\n",
        "model.add(Conv2D(128, (5, 5), activation='relu', padding='same', input_shape=x_train_rescaled.shape[1:]))\n",
        "model.add(Conv2D(64, (3, 3), strides=(2, 2), activation='relu', padding='same'))\n",
        "model.add(MaxPooling2D(pool_size=(2, 2)))\n",
        "model.add(Dropout(0.4))\n",
        "\n",
        "model.add(Conv2D(64, (3, 3), activation='relu', padding='same'))\n",
        "model.add(Conv2D(64, (3, 3), strides=(2, 2), activation='relu', padding='same'))\n",
        "model.add(MaxPooling2D(pool_size=(2, 2)))\n",
        "model.add(Dropout(0.25))\n",
        "\n",
        "model.add(Flatten())\n",
        "model.add(Dense(512, activation='relu'))\n",
        "model.add(Dense(512, activation='relu'))\n",
        "model.add(Dense(51, activation='softmax'))"
      ],
      "execution_count": 0,
      "outputs": []
    },
    {
      "metadata": {
        "id": "PQCILIE99ny4",
        "colab_type": "code",
        "colab": {
          "base_uri": "https://localhost:8080/",
          "height": 544
        },
        "outputId": "5f85ced1-3a17-4092-9289-843c769f4e28"
      },
      "cell_type": "code",
      "source": [
        "model.summary()"
      ],
      "execution_count": 90,
      "outputs": [
        {
          "output_type": "stream",
          "text": [
            "_________________________________________________________________\n",
            "Layer (type)                 Output Shape              Param #   \n",
            "=================================================================\n",
            "conv2d_43 (Conv2D)           (None, 120, 160, 128)     9728      \n",
            "_________________________________________________________________\n",
            "conv2d_44 (Conv2D)           (None, 60, 80, 64)        73792     \n",
            "_________________________________________________________________\n",
            "max_pooling2d_19 (MaxPooling (None, 30, 40, 64)        0         \n",
            "_________________________________________________________________\n",
            "dropout_21 (Dropout)         (None, 30, 40, 64)        0         \n",
            "_________________________________________________________________\n",
            "conv2d_45 (Conv2D)           (None, 30, 40, 64)        36928     \n",
            "_________________________________________________________________\n",
            "conv2d_46 (Conv2D)           (None, 15, 20, 64)        36928     \n",
            "_________________________________________________________________\n",
            "max_pooling2d_20 (MaxPooling (None, 7, 10, 64)         0         \n",
            "_________________________________________________________________\n",
            "dropout_22 (Dropout)         (None, 7, 10, 64)         0         \n",
            "_________________________________________________________________\n",
            "flatten_10 (Flatten)         (None, 4480)              0         \n",
            "_________________________________________________________________\n",
            "dense_24 (Dense)             (None, 512)               2294272   \n",
            "_________________________________________________________________\n",
            "dense_25 (Dense)             (None, 512)               262656    \n",
            "_________________________________________________________________\n",
            "dense_26 (Dense)             (None, 51)                26163     \n",
            "=================================================================\n",
            "Total params: 2,740,467\n",
            "Trainable params: 2,740,467\n",
            "Non-trainable params: 0\n",
            "_________________________________________________________________\n"
          ],
          "name": "stdout"
        }
      ]
    },
    {
      "metadata": {
        "id": "PFiy6L7ehI2s",
        "colab_type": "text"
      },
      "cell_type": "markdown",
      "source": [
        "## Entrenamiento de la CNN"
      ]
    },
    {
      "metadata": {
        "id": "RXOZhgm2RniS",
        "colab_type": "code",
        "colab": {}
      },
      "cell_type": "code",
      "source": [
        "from keras.optimizers import SGD, rmsprop, Adam\n",
        "import math"
      ],
      "execution_count": 0,
      "outputs": []
    },
    {
      "metadata": {
        "id": "9i6XmIyn9xu4",
        "colab_type": "code",
        "colab": {}
      },
      "cell_type": "code",
      "source": [
        "epochs=25\n",
        "learning_rate = 0.5\n",
        "decay_rate = 1e-6\n",
        "\n",
        "opt = rmsprop(lr=0.001, decay=1e-6)\n",
        "#opt = Adam(lr = 0.001)\n",
        "model.compile(optimizer=opt, loss='categorical_crossentropy', metrics=['accuracy'])\n",
        "#model.compile(optimizer=opt, loss=root_mean_squared_error, metrics=['accuracy'])"
      ],
      "execution_count": 0,
      "outputs": []
    },
    {
      "metadata": {
        "id": "Fzuq3TeeRaB2",
        "colab_type": "code",
        "colab": {
          "base_uri": "https://localhost:8080/",
          "height": 884
        },
        "outputId": "b38fea01-232a-4ad6-f7fc-71b13a8e8788"
      },
      "cell_type": "code",
      "source": [
        "batch_size=32\n",
        "history=model.fit(x_train_rescaled, y_train, epochs=epochs, batch_size=batch_size, validation_split=0.1, shuffle=True, verbose=2)"
      ],
      "execution_count": 95,
      "outputs": [
        {
          "output_type": "stream",
          "text": [
            "Train on 1440 samples, validate on 160 samples\n",
            "Epoch 1/25\n",
            " - 9s - loss: 3.3232 - acc: 0.0667 - val_loss: 3.0450 - val_acc: 0.1562\n",
            "Epoch 2/25\n",
            " - 8s - loss: 3.1892 - acc: 0.0778 - val_loss: 2.9085 - val_acc: 0.0813\n",
            "Epoch 3/25\n",
            " - 8s - loss: 3.0598 - acc: 0.0924 - val_loss: 2.8676 - val_acc: 0.1313\n",
            "Epoch 4/25\n",
            " - 8s - loss: 2.9096 - acc: 0.1215 - val_loss: 2.9554 - val_acc: 0.0563\n",
            "Epoch 5/25\n",
            " - 8s - loss: 2.7275 - acc: 0.1604 - val_loss: 2.8011 - val_acc: 0.1000\n",
            "Epoch 6/25\n",
            " - 8s - loss: 2.5890 - acc: 0.1944 - val_loss: 2.9362 - val_acc: 0.0625\n",
            "Epoch 7/25\n",
            " - 8s - loss: 2.3802 - acc: 0.2562 - val_loss: 3.0808 - val_acc: 0.0500\n",
            "Epoch 8/25\n",
            " - 8s - loss: 2.0706 - acc: 0.3292 - val_loss: 3.8141 - val_acc: 0.0688\n",
            "Epoch 9/25\n",
            " - 8s - loss: 1.7601 - acc: 0.4194 - val_loss: 3.4674 - val_acc: 0.0750\n",
            "Epoch 10/25\n",
            " - 8s - loss: 1.4394 - acc: 0.5347 - val_loss: 3.8168 - val_acc: 0.1000\n",
            "Epoch 11/25\n",
            " - 8s - loss: 1.0916 - acc: 0.6424 - val_loss: 4.8081 - val_acc: 0.0688\n",
            "Epoch 12/25\n",
            " - 8s - loss: 0.8191 - acc: 0.7382 - val_loss: 4.3777 - val_acc: 0.0938\n",
            "Epoch 13/25\n",
            " - 8s - loss: 0.5836 - acc: 0.8076 - val_loss: 5.5349 - val_acc: 0.0875\n",
            "Epoch 14/25\n",
            " - 8s - loss: 0.4235 - acc: 0.8618 - val_loss: 6.5305 - val_acc: 0.0563\n",
            "Epoch 15/25\n",
            " - 8s - loss: 0.3391 - acc: 0.8896 - val_loss: 5.9141 - val_acc: 0.0625\n",
            "Epoch 16/25\n",
            " - 8s - loss: 0.2617 - acc: 0.9188 - val_loss: 5.6852 - val_acc: 0.0563\n",
            "Epoch 17/25\n",
            " - 8s - loss: 0.2232 - acc: 0.9292 - val_loss: 7.5415 - val_acc: 0.0500\n",
            "Epoch 18/25\n",
            " - 8s - loss: 0.1805 - acc: 0.9396 - val_loss: 7.8021 - val_acc: 0.0750\n",
            "Epoch 19/25\n",
            " - 8s - loss: 0.2001 - acc: 0.9444 - val_loss: 8.5231 - val_acc: 0.0813\n",
            "Epoch 20/25\n",
            " - 8s - loss: 0.1441 - acc: 0.9562 - val_loss: 7.9187 - val_acc: 0.0688\n",
            "Epoch 21/25\n",
            " - 8s - loss: 0.1440 - acc: 0.9562 - val_loss: 8.2378 - val_acc: 0.0688\n",
            "Epoch 22/25\n",
            " - 8s - loss: 0.1140 - acc: 0.9618 - val_loss: 8.6511 - val_acc: 0.0750\n",
            "Epoch 23/25\n",
            " - 8s - loss: 0.0966 - acc: 0.9715 - val_loss: 9.2660 - val_acc: 0.0688\n",
            "Epoch 24/25\n",
            " - 8s - loss: 0.1124 - acc: 0.9611 - val_loss: 9.7771 - val_acc: 0.0437\n",
            "Epoch 25/25\n",
            " - 8s - loss: 0.1090 - acc: 0.9688 - val_loss: 8.7630 - val_acc: 0.0563\n"
          ],
          "name": "stdout"
        }
      ]
    },
    {
      "metadata": {
        "id": "5JIvt0IGhMvb",
        "colab_type": "text"
      },
      "cell_type": "markdown",
      "source": [
        "## Pruebas sobre la Red"
      ]
    },
    {
      "metadata": {
        "id": "h_38Xv8HUGLj",
        "colab_type": "code",
        "colab": {}
      },
      "cell_type": "code",
      "source": [
        "Y_trained = model.predict(x_train_rescaled,batch_size=1)"
      ],
      "execution_count": 0,
      "outputs": []
    },
    {
      "metadata": {
        "id": "ns-XbCPTa2Ww",
        "colab_type": "code",
        "colab": {}
      },
      "cell_type": "code",
      "source": [
        "y_trained_argmax = []\n",
        "y_argmax = []\n",
        "for elem in Y_trained:\n",
        "  y_trained_argmax.append(np.argmax(elem))\n",
        "for elem in y_train:\n",
        "  y_argmax.append(np.argmax(elem))"
      ],
      "execution_count": 0,
      "outputs": []
    },
    {
      "metadata": {
        "id": "Y9CYFsMAduUo",
        "colab_type": "code",
        "colab": {
          "base_uri": "https://localhost:8080/",
          "height": 34
        },
        "outputId": "10339ebf-f024-48e8-ddf3-0a8af4576132"
      },
      "cell_type": "code",
      "source": [
        "from sklearn.metrics import mean_squared_error\n",
        "math.sqrt(mean_squared_error(y_argmax, y_trained_argmax))"
      ],
      "execution_count": 98,
      "outputs": [
        {
          "output_type": "execute_result",
          "data": {
            "text/plain": [
              "1.6723860200324565"
            ]
          },
          "metadata": {
            "tags": []
          },
          "execution_count": 98
        }
      ]
    },
    {
      "metadata": {
        "id": "DixKZNE8hQ6P",
        "colab_type": "text"
      },
      "cell_type": "markdown",
      "source": [
        "## Preparación de Submission a Kaggle"
      ]
    },
    {
      "metadata": {
        "id": "KRyqfdC2bQqE",
        "colab_type": "code",
        "colab": {
          "base_uri": "https://localhost:8080/",
          "height": 51
        },
        "outputId": "48ac2e95-b22f-4e7e-a6b6-07b1ddcf8439"
      },
      "cell_type": "code",
      "source": [
        "x_test = np.load('images_test.npy')\n",
        "x_test_rescaled = []\n",
        "for image in x_test:\n",
        "  x_test_rescaled.append(rescale(image, 1.0 / 4.0))\n",
        "x_test_rescaled = np.asarray(x_test_rescaled)"
      ],
      "execution_count": 68,
      "outputs": [
        {
          "output_type": "stream",
          "text": [
            "/usr/local/lib/python3.6/dist-packages/skimage/transform/_warps.py:84: UserWarning: The default mode, 'constant', will be changed to 'reflect' in skimage 0.15.\n",
            "  warn(\"The default mode, 'constant', will be changed to 'reflect' in \"\n"
          ],
          "name": "stderr"
        }
      ]
    },
    {
      "metadata": {
        "id": "ixqvaKyTb58k",
        "colab_type": "code",
        "colab": {}
      },
      "cell_type": "code",
      "source": [
        "Y_trained = model.predict(x_test_rescaled, batch_size=1)"
      ],
      "execution_count": 0,
      "outputs": []
    },
    {
      "metadata": {
        "id": "A4akxGWZcDB0",
        "colab_type": "code",
        "colab": {}
      },
      "cell_type": "code",
      "source": [
        "y_trained_argmax = []\n",
        "for elem in Y_trained:\n",
        "  y_trained_argmax.append(np.argmax(elem))"
      ],
      "execution_count": 0,
      "outputs": []
    },
    {
      "metadata": {
        "id": "4GI5HDdkcIDe",
        "colab_type": "code",
        "colab": {}
      },
      "cell_type": "code",
      "source": [
        "test_ids = list(range(1, 401))\n",
        "d = {'id': test_ids, 'count': y_trained_argmax}\n",
        "entrega = pd.DataFrame(data=d,columns=['id','count'])\n",
        "entrega.to_csv('mysubmission.csv', index=False)"
      ],
      "execution_count": 0,
      "outputs": []
    },
    {
      "metadata": {
        "id": "TCReXY7vcLpH",
        "colab_type": "code",
        "colab": {}
      },
      "cell_type": "code",
      "source": [
        ""
      ],
      "execution_count": 0,
      "outputs": []
    }
  ]
}