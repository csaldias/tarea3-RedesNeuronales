{
  "nbformat": 4,
  "nbformat_minor": 0,
  "metadata": {
    "colab": {
      "name": "Pregunta 2 T2.ipynb",
      "version": "0.3.2",
      "provenance": [],
      "collapsed_sections": []
    },
    "kernelspec": {
      "name": "python3",
      "display_name": "Python 3"
    },
    "accelerator": "GPU"
  },
  "cells": [
    {
      "metadata": {
        "id": "wy7HyPVbOKvZ",
        "colab_type": "text"
      },
      "cell_type": "markdown",
      "source": [
        "> **Parte a)**"
      ]
    },
    {
      "metadata": {
        "id": "qfeImSq3Nv1I",
        "colab_type": "code",
        "colab": {
          "base_uri": "https://localhost:8080/",
          "height": 204
        },
        "outputId": "dfdcd350-d8dc-4a0d-9eaf-0437a272d33a"
      },
      "cell_type": "code",
      "source": [
        "import pandas as pd\n",
        "\n",
        "link_train = 'https://raw.githubusercontent.com/csaldias/tarea3-RedesNeuronales/master/train_Q-A.csv'\n",
        "link_test  = 'https://raw.githubusercontent.com/csaldias/tarea3-RedesNeuronales/master/test_Q.csv'\n",
        "\n",
        "df_train = pd.read_csv(link_train)\n",
        "df_train.dropna(inplace=True)\n",
        "df_test = pd.read_csv(link_test)\n",
        "df_train.head()"
      ],
      "execution_count": 2,
      "outputs": [
        {
          "output_type": "execute_result",
          "data": {
            "text/html": [
              "<div>\n",
              "<style scoped>\n",
              "    .dataframe tbody tr th:only-of-type {\n",
              "        vertical-align: middle;\n",
              "    }\n",
              "\n",
              "    .dataframe tbody tr th {\n",
              "        vertical-align: top;\n",
              "    }\n",
              "\n",
              "    .dataframe thead th {\n",
              "        text-align: right;\n",
              "    }\n",
              "</style>\n",
              "<table border=\"1\" class=\"dataframe\">\n",
              "  <thead>\n",
              "    <tr style=\"text-align: right;\">\n",
              "      <th></th>\n",
              "      <th>id</th>\n",
              "      <th>question</th>\n",
              "      <th>answer</th>\n",
              "    </tr>\n",
              "  </thead>\n",
              "  <tbody>\n",
              "    <tr>\n",
              "      <th>0</th>\n",
              "      <td>56be85543aeaaa14008c9063</td>\n",
              "      <td>When did Beyonce start becoming popular?</td>\n",
              "      <td>in the late 1990s</td>\n",
              "    </tr>\n",
              "    <tr>\n",
              "      <th>1</th>\n",
              "      <td>56be85543aeaaa14008c9065</td>\n",
              "      <td>What areas did Beyonce compete in when she was...</td>\n",
              "      <td>singing and dancing</td>\n",
              "    </tr>\n",
              "    <tr>\n",
              "      <th>2</th>\n",
              "      <td>56be85543aeaaa14008c9066</td>\n",
              "      <td>When did Beyonce leave Destiny's Child and bec...</td>\n",
              "      <td>2003</td>\n",
              "    </tr>\n",
              "    <tr>\n",
              "      <th>3</th>\n",
              "      <td>56bf6b0f3aeaaa14008c9601</td>\n",
              "      <td>In what city and state did Beyonce  grow up?</td>\n",
              "      <td>Houston, Texas</td>\n",
              "    </tr>\n",
              "    <tr>\n",
              "      <th>4</th>\n",
              "      <td>56bf6b0f3aeaaa14008c9602</td>\n",
              "      <td>In which decade did Beyonce become famous?</td>\n",
              "      <td>late 1990s</td>\n",
              "    </tr>\n",
              "  </tbody>\n",
              "</table>\n",
              "</div>"
            ],
            "text/plain": [
              "                         id  \\\n",
              "0  56be85543aeaaa14008c9063   \n",
              "1  56be85543aeaaa14008c9065   \n",
              "2  56be85543aeaaa14008c9066   \n",
              "3  56bf6b0f3aeaaa14008c9601   \n",
              "4  56bf6b0f3aeaaa14008c9602   \n",
              "\n",
              "                                            question               answer  \n",
              "0           When did Beyonce start becoming popular?    in the late 1990s  \n",
              "1  What areas did Beyonce compete in when she was...  singing and dancing  \n",
              "2  When did Beyonce leave Destiny's Child and bec...                 2003  \n",
              "3      In what city and state did Beyonce  grow up?        Houston, Texas  \n",
              "4         In which decade did Beyonce become famous?           late 1990s  "
            ]
          },
          "metadata": {
            "tags": []
          },
          "execution_count": 2
        }
      ]
    },
    {
      "metadata": {
        "id": "VxQ8wKIUTTa4",
        "colab_type": "code",
        "colab": {
          "base_uri": "https://localhost:8080/",
          "height": 204
        },
        "outputId": "0f08fac6-345b-4921-afe7-acda88a69472"
      },
      "cell_type": "code",
      "source": [
        "df_test.head()"
      ],
      "execution_count": 3,
      "outputs": [
        {
          "output_type": "execute_result",
          "data": {
            "text/html": [
              "<div>\n",
              "<style scoped>\n",
              "    .dataframe tbody tr th:only-of-type {\n",
              "        vertical-align: middle;\n",
              "    }\n",
              "\n",
              "    .dataframe tbody tr th {\n",
              "        vertical-align: top;\n",
              "    }\n",
              "\n",
              "    .dataframe thead th {\n",
              "        text-align: right;\n",
              "    }\n",
              "</style>\n",
              "<table border=\"1\" class=\"dataframe\">\n",
              "  <thead>\n",
              "    <tr style=\"text-align: right;\">\n",
              "      <th></th>\n",
              "      <th>id</th>\n",
              "      <th>question</th>\n",
              "    </tr>\n",
              "  </thead>\n",
              "  <tbody>\n",
              "    <tr>\n",
              "      <th>0</th>\n",
              "      <td>56ddde6b9a695914005b9628</td>\n",
              "      <td>In what country is Normandy located?</td>\n",
              "    </tr>\n",
              "    <tr>\n",
              "      <th>1</th>\n",
              "      <td>56ddde6b9a695914005b9629</td>\n",
              "      <td>When were the Normans in Normandy?</td>\n",
              "    </tr>\n",
              "    <tr>\n",
              "      <th>2</th>\n",
              "      <td>56ddde6b9a695914005b962a</td>\n",
              "      <td>From which countries did the Norse originate?</td>\n",
              "    </tr>\n",
              "    <tr>\n",
              "      <th>3</th>\n",
              "      <td>56ddde6b9a695914005b962b</td>\n",
              "      <td>Who was the Norse leader?</td>\n",
              "    </tr>\n",
              "    <tr>\n",
              "      <th>4</th>\n",
              "      <td>56ddde6b9a695914005b962c</td>\n",
              "      <td>What century did the Normans first gain their ...</td>\n",
              "    </tr>\n",
              "  </tbody>\n",
              "</table>\n",
              "</div>"
            ],
            "text/plain": [
              "                         id                                           question\n",
              "0  56ddde6b9a695914005b9628               In what country is Normandy located?\n",
              "1  56ddde6b9a695914005b9629                 When were the Normans in Normandy?\n",
              "2  56ddde6b9a695914005b962a      From which countries did the Norse originate?\n",
              "3  56ddde6b9a695914005b962b                          Who was the Norse leader?\n",
              "4  56ddde6b9a695914005b962c  What century did the Normans first gain their ..."
            ]
          },
          "metadata": {
            "tags": []
          },
          "execution_count": 3
        }
      ]
    },
    {
      "metadata": {
        "id": "n4fvKeaVPNxl",
        "colab_type": "code",
        "colab": {
          "base_uri": "https://localhost:8080/",
          "height": 51
        },
        "outputId": "d6dc38fc-a80a-4ee4-aa3e-90e4b6d97c27"
      },
      "cell_type": "code",
      "source": [
        "print(\"Hay {} ejemplos disponibles para entrenar.\".format(df_train.shape[0]))\n",
        "print(\"Hay {} ejemplos disponibles para predecir.\".format(df_test.shape[0]))"
      ],
      "execution_count": 4,
      "outputs": [
        {
          "output_type": "stream",
          "text": [
            "Hay 86821 ejemplos disponibles para entrenar.\n",
            "Hay 11873 ejemplos disponibles para predecir.\n"
          ],
          "name": "stdout"
        }
      ]
    },
    {
      "metadata": {
        "id": "yOYdNNdoQTms",
        "colab_type": "text"
      },
      "cell_type": "markdown",
      "source": [
        "> **Parte b)**"
      ]
    },
    {
      "metadata": {
        "id": "qFPQ0cjKRQf-",
        "colab_type": "code",
        "colab": {
          "base_uri": "https://localhost:8080/",
          "height": 68
        },
        "outputId": "343a61a9-27c6-49ea-eb85-d4cc46dab8bd"
      },
      "cell_type": "code",
      "source": [
        "import nltk\n",
        "nltk.download('punkt')"
      ],
      "execution_count": 5,
      "outputs": [
        {
          "output_type": "stream",
          "text": [
            "[nltk_data] Downloading package punkt to /content/nltk_data...\n",
            "[nltk_data]   Unzipping tokenizers/punkt.zip.\n"
          ],
          "name": "stdout"
        },
        {
          "output_type": "execute_result",
          "data": {
            "text/plain": [
              "True"
            ]
          },
          "metadata": {
            "tags": []
          },
          "execution_count": 5
        }
      ]
    },
    {
      "metadata": {
        "id": "mgK2avHUQLs6",
        "colab_type": "code",
        "colab": {}
      },
      "cell_type": "code",
      "source": [
        "from nltk.tokenize import word_tokenize\n",
        "\n",
        "train_questions = [word_tokenize(sentence.lower()) for sentence in df_train[\"question\"]] #or processing\n",
        "test_questions  = [word_tokenize(sentence.lower()) for sentence in df_test[\"question\"]]\n",
        "train_answers   = [word_tokenize(sentence) for sentence in df_train[\"answer\"]]"
      ],
      "execution_count": 0,
      "outputs": []
    },
    {
      "metadata": {
        "id": "FgVk_ioeSzdA",
        "colab_type": "code",
        "colab": {
          "base_uri": "https://localhost:8080/",
          "height": 34
        },
        "outputId": "af085580-1d4f-4795-ef2e-17fefef3070a"
      },
      "cell_type": "code",
      "source": [
        "print(train_answers[30])"
      ],
      "execution_count": 7,
      "outputs": [
        {
          "output_type": "stream",
          "text": [
            "['2000s']\n"
          ],
          "name": "stdout"
        }
      ]
    },
    {
      "metadata": {
        "id": "ls87rjLlRaQG",
        "colab_type": "text"
      },
      "cell_type": "markdown",
      "source": [
        "> **Parte c)**"
      ]
    },
    {
      "metadata": {
        "id": "QcPGpJvjRLhH",
        "colab_type": "code",
        "colab": {
          "base_uri": "https://localhost:8080/",
          "height": 34
        },
        "outputId": "f240118a-39ae-4712-d3e7-542f84dde396"
      },
      "cell_type": "code",
      "source": [
        "vocab_answer = set()\n",
        "for sentence in train_answers:\n",
        "    for word in sentence:\n",
        "        vocab_answer.add(word)\n",
        "vocab_answer = [\"#end\"]+ list(vocab_answer)\n",
        "print('posibles palabras para respuestas :', len(vocab_answer))\n",
        "vocabA_indices = {c: i for i, c in enumerate(vocab_answer)}\n",
        "indices_vocabA = {i: c for i, c in enumerate(vocab_answer)}"
      ],
      "execution_count": 8,
      "outputs": [
        {
          "output_type": "stream",
          "text": [
            "posibles palabras para respuestas : 47423\n"
          ],
          "name": "stdout"
        }
      ]
    },
    {
      "metadata": {
        "id": "oMhYWjqnT8w3",
        "colab_type": "code",
        "colab": {
          "base_uri": "https://localhost:8080/",
          "height": 34
        },
        "outputId": "84650225-ac71-4c47-ff84-a1a9ae987b1d"
      },
      "cell_type": "code",
      "source": [
        "vocab_question = set()\n",
        "for sentence in train_questions:\n",
        "    for word in sentence:\n",
        "        vocab_question.add(word)\n",
        "for sentence in test_questions:\n",
        "    for word in sentence:\n",
        "        vocab_question.add(word)\n",
        "vocab_question = [\"#end\"]+ list(vocab_question)\n",
        "print('posibles palabras para preguntas :', len(vocab_question))\n",
        "vocabQ_indices = {c: i for i, c in enumerate(vocab_question)}\n",
        "indices_vocabQ = {i: c for i, c in enumerate(vocab_question)}"
      ],
      "execution_count": 9,
      "outputs": [
        {
          "output_type": "stream",
          "text": [
            "posibles palabras para preguntas : 42060\n"
          ],
          "name": "stdout"
        }
      ]
    },
    {
      "metadata": {
        "id": "dUoQMmeVUQrR",
        "colab_type": "text"
      },
      "cell_type": "markdown",
      "source": [
        "> **Parte d)**"
      ]
    },
    {
      "metadata": {
        "id": "zTHzYrr6T5Kj",
        "colab_type": "code",
        "colab": {}
      },
      "cell_type": "code",
      "source": [
        "#input and output to onehotvector\n",
        "X_answers = [[vocabA_indices[palabra] for palabra in sentence] for sentence in train_answers]\n",
        "Xtrain_question = [[vocabQ_indices[palabra] for palabra in sentence] for sentence in train_questions]#same for train question\n",
        "Xtest_question = [[vocabQ_indices[palabra] for palabra in sentence] for sentence in test_questions]#same for test question"
      ],
      "execution_count": 0,
      "outputs": []
    },
    {
      "metadata": {
        "id": "wVJ4TmhdW-b-",
        "colab_type": "code",
        "colab": {
          "base_uri": "https://localhost:8080/",
          "height": 34
        },
        "outputId": "02ef6816-2006-41b7-83f0-540de2b0dd5a"
      },
      "cell_type": "code",
      "source": [
        "import numpy as np\n",
        "max_input_lenght  = np.max(list(map(len, train_questions)))\n",
        "max_output_lenght = np.max(list(map(len, train_answers)))+1\n",
        "\n",
        "from keras.preprocessing import sequence\n",
        "Xtrain_question = sequence.pad_sequences(Xtrain_question, maxlen=max_input_lenght, padding='post', value=0)\n",
        "Xtest_question  = sequence.pad_sequences(Xtest_question, maxlen=max_input_lenght, padding='post', value=0)\n",
        "X_answers       = sequence.pad_sequences(X_answers, maxlen=max_output_lenght, padding='post', value=vocabA_indices[\"#end\"])"
      ],
      "execution_count": 11,
      "outputs": [
        {
          "output_type": "stream",
          "text": [
            "Using TensorFlow backend.\n"
          ],
          "name": "stderr"
        }
      ]
    },
    {
      "metadata": {
        "id": "H0Oz1snNYpNy",
        "colab_type": "code",
        "colab": {
          "base_uri": "https://localhost:8080/",
          "height": 68
        },
        "outputId": "99dcc14f-3668-4efc-e502-dd26ef302656"
      },
      "cell_type": "code",
      "source": [
        "print(\"Dimensionalidad Xtrain_question:\",Xtrain_question.shape)\n",
        "print(\"Dimensionalidad X_answers:\\t\",X_answers.shape)\n",
        "print(\"Dimensionalidad Xtest_question:\\t\",Xtest_question.shape)"
      ],
      "execution_count": 12,
      "outputs": [
        {
          "output_type": "stream",
          "text": [
            "Dimensionalidad Xtrain_question: (86821, 60)\n",
            "Dimensionalidad X_answers:\t (86821, 47)\n",
            "Dimensionalidad Xtest_question:\t (11873, 60)\n"
          ],
          "name": "stdout"
        }
      ]
    },
    {
      "metadata": {
        "id": "grFMr9cObv5B",
        "colab_type": "text"
      },
      "cell_type": "markdown",
      "source": [
        "> **Parte e)**"
      ]
    },
    {
      "metadata": {
        "id": "O-ADZ654a0yJ",
        "colab_type": "code",
        "colab": {}
      },
      "cell_type": "code",
      "source": [
        "#Encoder-Decoder modelo\n",
        "from keras.layers import Input,RepeatVector,TimeDistributed,Dense,Embedding,Flatten,Activation,Permute,Lambda,CuDNNLSTM\n",
        "from keras.models import Model\n",
        "from keras import backend as K\n",
        "\n",
        "lenght_output = max_output_lenght\n",
        "hidden_dim = 128"
      ],
      "execution_count": 0,
      "outputs": []
    },
    {
      "metadata": {
        "id": "n3IdcK2eb5kN",
        "colab_type": "code",
        "colab": {}
      },
      "cell_type": "code",
      "source": [
        "embedding_vector = 64 \n",
        "encoder_input = Input(shape=(max_input_lenght,))\n",
        "embedded = Embedding(input_dim=len(vocabQ_indices),output_dim=embedding_vector,input_length=max_input_lenght)(encoder_input)\n",
        "encoder = CuDNNLSTM(hidden_dim, return_sequences=True)(embedded)"
      ],
      "execution_count": 0,
      "outputs": []
    },
    {
      "metadata": {
        "id": "QfS14vcYcVTM",
        "colab_type": "code",
        "colab": {}
      },
      "cell_type": "code",
      "source": [
        "# compute T' importance for each step T\n",
        "attention = TimeDistributed(Dense(max_output_lenght, activation='tanh'))(encoder)\n",
        "#softmax a las antenciones sobre todo T\n",
        "attention = Permute([2, 1])(attention)\n",
        "attention = Activation('softmax')(attention) \n",
        "attention = Permute([2, 1])(attention)"
      ],
      "execution_count": 0,
      "outputs": []
    },
    {
      "metadata": {
        "id": "ynT3ya3Nce3E",
        "colab_type": "code",
        "colab": {}
      },
      "cell_type": "code",
      "source": [
        "# apply the attention to encoder\n",
        "def attention_multiply(vects):\n",
        "    encoder, attention = vects\n",
        "    return K.batch_dot(attention,encoder, axes=1)\n",
        "sent_representation = Lambda(attention_multiply)([encoder, attention])\n",
        "decoder = CuDNNLSTM(hidden_dim, return_sequences=True)(sent_representation)\n",
        "probabilities = TimeDistributed(Dense(len(vocab_answer), activation=\"softmax\"))(decoder)"
      ],
      "execution_count": 0,
      "outputs": []
    },
    {
      "metadata": {
        "id": "w8miyqsUcot1",
        "colab_type": "code",
        "colab": {
          "base_uri": "https://localhost:8080/",
          "height": 493
        },
        "outputId": "32ba0941-3ca7-465a-be95-0bc027d4ae10"
      },
      "cell_type": "code",
      "source": [
        "model = Model(encoder_input,probabilities)\n",
        "model.compile(loss='sparse_categorical_crossentropy', optimizer='adam')\n",
        "model.summary()"
      ],
      "execution_count": 17,
      "outputs": [
        {
          "output_type": "stream",
          "text": [
            "__________________________________________________________________________________________________\n",
            "Layer (type)                    Output Shape         Param #     Connected to                     \n",
            "==================================================================================================\n",
            "input_1 (InputLayer)            (None, 60)           0                                            \n",
            "__________________________________________________________________________________________________\n",
            "embedding_1 (Embedding)         (None, 60, 64)       2691840     input_1[0][0]                    \n",
            "__________________________________________________________________________________________________\n",
            "cu_dnnlstm_1 (CuDNNLSTM)        (None, 60, 128)      99328       embedding_1[0][0]                \n",
            "__________________________________________________________________________________________________\n",
            "time_distributed_1 (TimeDistrib (None, 60, 47)       6063        cu_dnnlstm_1[0][0]               \n",
            "__________________________________________________________________________________________________\n",
            "permute_1 (Permute)             (None, 47, 60)       0           time_distributed_1[0][0]         \n",
            "__________________________________________________________________________________________________\n",
            "activation_1 (Activation)       (None, 47, 60)       0           permute_1[0][0]                  \n",
            "__________________________________________________________________________________________________\n",
            "permute_2 (Permute)             (None, 60, 47)       0           activation_1[0][0]               \n",
            "__________________________________________________________________________________________________\n",
            "lambda_1 (Lambda)               (None, 47, 128)      0           cu_dnnlstm_1[0][0]               \n",
            "                                                                 permute_2[0][0]                  \n",
            "__________________________________________________________________________________________________\n",
            "cu_dnnlstm_2 (CuDNNLSTM)        (None, 47, 128)      132096      lambda_1[0][0]                   \n",
            "__________________________________________________________________________________________________\n",
            "time_distributed_2 (TimeDistrib (None, 47, 47423)    6117567     cu_dnnlstm_2[0][0]               \n",
            "==================================================================================================\n",
            "Total params: 9,046,894\n",
            "Trainable params: 9,046,894\n",
            "Non-trainable params: 0\n",
            "__________________________________________________________________________________________________\n"
          ],
          "name": "stdout"
        }
      ]
    },
    {
      "metadata": {
        "id": "WXC42-QAc6sY",
        "colab_type": "text"
      },
      "cell_type": "markdown",
      "source": [
        "> **Parte f)**"
      ]
    },
    {
      "metadata": {
        "id": "jzMX0vCWc3vs",
        "colab_type": "code",
        "colab": {
          "base_uri": "https://localhost:8080/",
          "height": 391
        },
        "outputId": "cf2f2cb7-7622-409f-9366-69f795808a9f"
      },
      "cell_type": "code",
      "source": [
        "X_answers = X_answers.reshape(X_answers.shape[0],X_answers.shape[1],1)\n",
        "X_answers.shape\n",
        "model.fit(Xtrain_question,X_answers,epochs=10,batch_size=128,validation_split=0.2)"
      ],
      "execution_count": 19,
      "outputs": [
        {
          "output_type": "stream",
          "text": [
            "Train on 69456 samples, validate on 17365 samples\n",
            "Epoch 1/10\n",
            "69456/69456 [==============================] - 349s 5ms/step - loss: 0.7267 - val_loss: 0.7981\n",
            "Epoch 2/10\n",
            "15104/69456 [=====>........................] - ETA: 4:07 - loss: 0.6984"
          ],
          "name": "stdout"
        },
        {
          "output_type": "stream",
          "text": [
            "69456/69456 [==============================] - 349s 5ms/step - loss: 0.6915 - val_loss: 0.8024\n",
            "Epoch 3/10\n",
            "50432/69456 [====================>.........] - ETA: 1:26 - loss: 0.6703"
          ],
          "name": "stdout"
        },
        {
          "output_type": "stream",
          "text": [
            "69456/69456 [==============================] - 349s 5ms/step - loss: 0.6713 - val_loss: 0.8078\n",
            "Epoch 4/10\n",
            "64640/69456 [==========================>...] - ETA: 21s - loss: 0.6542"
          ],
          "name": "stdout"
        },
        {
          "output_type": "stream",
          "text": [
            "69456/69456 [==============================] - 349s 5ms/step - loss: 0.6547 - val_loss: 0.8129\n",
            "Epoch 5/10\n",
            "69456/69456 [==============================] - 349s 5ms/step - loss: 0.6409 - val_loss: 0.8244\n",
            "Epoch 6/10\n",
            "  384/69456 [..............................] - ETA: 5:15 - loss: 0.6071"
          ],
          "name": "stdout"
        },
        {
          "output_type": "stream",
          "text": [
            "69456/69456 [==============================] - 348s 5ms/step - loss: 0.6291 - val_loss: 0.8322\n",
            "Epoch 7/10\n",
            "44416/69456 [==================>...........] - ETA: 1:53 - loss: 0.6204"
          ],
          "name": "stdout"
        },
        {
          "output_type": "stream",
          "text": [
            "69456/69456 [==============================] - 349s 5ms/step - loss: 0.6181 - val_loss: 0.8415\n",
            "Epoch 8/10\n",
            "62208/69456 [=========================>....] - ETA: 32s - loss: 0.6076"
          ],
          "name": "stdout"
        },
        {
          "output_type": "stream",
          "text": [
            "69456/69456 [==============================] - 349s 5ms/step - loss: 0.6081 - val_loss: 0.8471\n",
            "Epoch 9/10\n",
            "69376/69456 [============================>.] - ETA: 0s - loss: 0.5989"
          ],
          "name": "stdout"
        },
        {
          "output_type": "stream",
          "text": [
            "\b\b\b\b\b\b\b\b\b\b\b\b\b\b\b\b\b\b\b\b\b\b\b\b\b\b\b\b\b\b\b\b\b\b\b\b\b\b\b\b\b\b\b\b\b\b\b\b\b\b\b\b\b\b\b\b\b\b\b\b\b\b\b\b\b\b\b\b\b\r69456/69456 [==============================] - 349s 5ms/step - loss: 0.5990 - val_loss: 0.8538\n",
            "Epoch 10/10\n",
            "51328/69456 [=====================>........] - ETA: 1:22 - loss: 0.5896"
          ],
          "name": "stdout"
        },
        {
          "output_type": "stream",
          "text": [
            "69456/69456 [==============================] - 348s 5ms/step - loss: 0.5903 - val_loss: 0.8655\n"
          ],
          "name": "stdout"
        },
        {
          "output_type": "execute_result",
          "data": {
            "text/plain": [
              "<keras.callbacks.History at 0x7fcbd4366e80>"
            ]
          },
          "metadata": {
            "tags": []
          },
          "execution_count": 19
        }
      ]
    },
    {
      "metadata": {
        "id": "SDz_umSedAR0",
        "colab_type": "code",
        "colab": {}
      },
      "cell_type": "code",
      "source": [
        ""
      ],
      "execution_count": 0,
      "outputs": []
    }
  ]
}